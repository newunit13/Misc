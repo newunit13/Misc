{
 "cells": [
  {
   "cell_type": "code",
   "execution_count": 1,
   "metadata": {
    "collapsed": true
   },
   "outputs": [],
   "source": [
    "from string import printable, whitespace\n",
    "from random import random, choice, choices, randint\n",
    "from time import time\n",
    "\n",
    "characters = ''.join(c for c in printable if c not in whitespace) + ' '"
   ]
  },
  {
   "cell_type": "code",
   "execution_count": 2,
   "metadata": {
    "collapsed": true
   },
   "outputs": [],
   "source": [
    "class DNA:\n",
    "    def __init__(self, dna):\n",
    "        self.dna = dna\n",
    "        \n",
    "    def mutate(self, mutation_rate=.01):\n",
    "        self.dna = ''.join([gene if random() > mutation_rate else choice(characters) for gene in self.dna])\n",
    "    \n",
    "    def crossover(self, partner, target=None):\n",
    "        \n",
    "        if not target:\n",
    "            index = randint(0,len(self.dna))\n",
    "            child = self.dna[:index] + partner.dna[index:]\n",
    "        else:\n",
    "            child = ''\n",
    "            index = 0\n",
    "            for self_gene, partner_gene in zip(self.dna, partner.dna):\n",
    "                child += self_gene if self_gene == target[index] else partner_gene\n",
    "                index += 1\n",
    "        \n",
    "        return DNA(child)\n",
    "\n",
    "    def calculate_fitness(self, target):\n",
    "        self.fitness = 0\n",
    "        for self_gene, target_gene in zip(self.dna, target):\n",
    "            if self_gene == target_gene:\n",
    "                self.fitness += 1\n",
    "        self.fitness /= len(self.dna)\n",
    "        self.fitness = self.fitness**4\n",
    "    \n",
    "    def __str__(self):\n",
    "        return self.dna"
   ]
  },
  {
   "cell_type": "code",
   "execution_count": 3,
   "metadata": {
    "collapsed": true
   },
   "outputs": [],
   "source": [
    "class Population:\n",
    "    def __init__(self, target, population_size=1000, mutation_rate=.01, crossover_bias=False):\n",
    "        self.target = target\n",
    "        self.population_size = population_size\n",
    "        self.mutation_rate = mutation_rate\n",
    "        self.crossover_bias = crossover_bias\n",
    "        self.generation = 0\n",
    "        self.population = []\n",
    "        self.start_time = time()\n",
    "        self.generate()\n",
    "    \n",
    "    def generate(self):\n",
    "        \n",
    "        first_generation = len(self.population) != self.population_size\n",
    "        self.new_population = []\n",
    "        self.member_dna = []\n",
    "        self.best_fitness = 0\n",
    "        self.generation += 1\n",
    "\n",
    "        for _ in range(self.population_size):\n",
    "            if first_generation:\n",
    "                child = DNA(''.join(choice(characters) for _ in range(len(self.target))))\n",
    "                self.population.append(child)\n",
    "            else:\n",
    "                parent_a, parent_b = self.selection()\n",
    "                child = parent_a.crossover(parent_b, target=self.target if self.crossover_bias else None)\n",
    "                child.mutate(self.mutation_rate)\n",
    "\n",
    "                self.new_population.append(child)\n",
    "            \n",
    "            child.calculate_fitness(target)\n",
    "            if child.fitness > self.best_fitness:\n",
    "                self.best_fitness = child.fitness\n",
    "                self.best_member = child\n",
    "                \n",
    "            self.member_dna.append(child.dna)\n",
    "        \n",
    "        self.population = self.new_population if self.new_population else self.population\n",
    "        \n",
    "        self.fitnesses = [member.fitness for member in self.population]\n",
    "        self.average_fitness = sum(self.fitnesses) / len(self.population)\n",
    "\n",
    "    def selection(self):\n",
    "        \n",
    "        # Select two parents from the population based on their fitness\n",
    "        parent_a, parent_b = choices(self.population, weights=self.fitnesses, k=2)\n",
    "        \n",
    "        return parent_a, parent_b\n",
    "    \n",
    "    def __str__(self):\n",
    "        self.end_time = int(time() - self.start_time)\n",
    "        return (f\"Generation: {self.generation}\\t Average Fitness: {self.average_fitness:.0%}\\t \" +\n",
    "                f\"Best: {self.best_member.dna}\\t Time: {self.end_time}s\")"
   ]
  },
  {
   "cell_type": "code",
   "execution_count": 4,
   "metadata": {},
   "outputs": [
    {
     "name": "stdout",
     "output_type": "stream",
     "text": [
      "Generation: 1\t Average Fitness: 0%\t Best: ?6>kf->g?yP[&wo ARK(11!P qZu:SQCJI)+'.ldA\t Time: 0s\n",
      "Generation: 2\t Average Fitness: 0%\t Best: T:mcM oqrsoY2^[%Q8[bf[SEBl{1l vl*(.rtQonp\t Time: 0s\n",
      "Generation: 3\t Average Fitness: 0%\t Best: T{ ~D oHx}osr7oIUm} :ZMQIe-\\a6_ P!+stCon%\t Time: 0s\n",
      "Generation: 4\t Average Fitness: 2%\t Best: Tr)4: o%r}oN to 'l` tMn* _7@t'M p9eEtion.\t Time: 0s\n",
      "Generation: 5\t Average Fitness: 7%\t Best: T<LUe or eo! +o ;e, ttaC Xs the qFQ1tion.\t Time: 0s\n",
      "Generation: 6\t Average Fitness: 22%\t Best: To be or not to 6ez thaQ Ss 0he -Aest[on.\t Time: 1s\n",
      "Generation: 7\t Average Fitness: 45%\t Best: To be or not to be, that Ps the quJstion.\t Time: 1s\n",
      "Generation: 8\t Average Fitness: 65%\t Best: To be or not to be, that As the question.\t Time: 1s\n",
      "Generation: 9\t Average Fitness: 77%\t Best: To be or not to ;e, that is the question.\t Time: 1s\n",
      "----------------------------------------------------------------------------------------------------\n",
      "Generation: 10\t Average Fitness: 82%\t Best: To be or not to be, that is the question.\t Time: 2s\n"
     ]
    }
   ],
   "source": [
    "target = \"To be or not to be, that is the question.\"\n",
    "pool = Population(target, crossover_bias=True)\n",
    "\n",
    "\n",
    "while target not in pool.member_dna:\n",
    "    print(pool)\n",
    "    pool.generate()\n",
    "else:\n",
    "    print('-' * 100)\n",
    "    print(pool)\n"
   ]
  },
  {
   "cell_type": "code",
   "execution_count": null,
   "metadata": {
    "collapsed": true
   },
   "outputs": [],
   "source": []
  }
 ],
 "metadata": {
  "kernelspec": {
   "display_name": "Python 3",
   "language": "python",
   "name": "python3"
  },
  "language_info": {
   "codemirror_mode": {
    "name": "ipython",
    "version": 3
   },
   "file_extension": ".py",
   "mimetype": "text/x-python",
   "name": "python",
   "nbconvert_exporter": "python",
   "pygments_lexer": "ipython3",
   "version": "3.6.2"
  }
 },
 "nbformat": 4,
 "nbformat_minor": 2
}
