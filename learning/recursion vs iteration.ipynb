{
 "cells": [
  {
   "cell_type": "markdown",
   "source": [
    "# Initial imports"
   ],
   "metadata": {}
  },
  {
   "cell_type": "code",
   "execution_count": 1,
   "source": [
    "import timeit\r\n",
    "from functools import lru_cache\r\n",
    "\r\n",
    "global stack_call   # Used to keep track of how many times each function is called\r\n",
    "idx = 4             # N-th fibonacci sequence number\r\n",
    "runs = 5000         # number of runs to average function time"
   ],
   "outputs": [],
   "metadata": {}
  },
  {
   "cell_type": "markdown",
   "source": [
    "# Defining the functions"
   ],
   "metadata": {}
  },
  {
   "cell_type": "code",
   "execution_count": 2,
   "source": [
    "def recursive_fibonacci(idx):\r\n",
    "    recursive_fibonacci.call_count += 1\r\n",
    "    if idx <= 1:\r\n",
    "        return idx\r\n",
    "    return recursive_fibonacci(idx-1) + recursive_fibonacci(idx-2)\r\n",
    "\r\n",
    "def tail_rec_fibonacci(idx, step=0, a=0, b=1):\r\n",
    "    tail_rec_fibonacci.call_count += 1\r\n",
    "    if step == idx:\r\n",
    "        return a\r\n",
    "    return tail_rec_fibonacci(idx, step+1, b, a+b)    \r\n",
    "\r\n",
    "def iterative_fibonacci(idx):\r\n",
    "    iterative_fibonacci.call_count += 1\r\n",
    "    a, b = 0, 1\r\n",
    "    for _ in range(idx):\r\n",
    "        a, b = b, a+b\r\n",
    "    return a\r\n",
    "\r\n",
    "# set the initial counts to 0\r\n",
    "recursive_fibonacci.call_count  = 0\r\n",
    "tail_rec_fibonacci.call_count   = 0\r\n",
    "iterative_fibonacci.call_count  = 0"
   ],
   "outputs": [],
   "metadata": {}
  },
  {
   "cell_type": "markdown",
   "source": [
    "# Results"
   ],
   "metadata": {}
  },
  {
   "cell_type": "code",
   "execution_count": 3,
   "source": [
    "idx=16\r\n",
    "\r\n",
    "print('******* Recursive *******')\r\n",
    "stack_call = 0\r\n",
    "print(f\"Index: {idx}\")\r\n",
    "print(f\"Number: {recursive_fibonacci(idx)}\")\r\n",
    "print(f\"Stack Calls: {recursive_fibonacci.call_count}\")\r\n",
    "print(f\"speed : { timeit.timeit('recursive_fibonacci(idx)', globals=globals(), number=runs) }\")\r\n",
    "\r\n",
    "print('******* Tail Recursive *******')\r\n",
    "stack_call = 0\r\n",
    "print(f\"Index: {idx}\")\r\n",
    "print(f\"Number: {tail_rec_fibonacci(idx)}\")\r\n",
    "print(f\"Stack Calls: {tail_rec_fibonacci.call_count}\")\r\n",
    "print(f\"speed : { timeit.timeit('tail_rec_fibonacci(idx)', globals=globals(), number=runs) }\")\r\n",
    "\r\n",
    "print('******* Iterative *******')\r\n",
    "stack_call = 0\r\n",
    "print(f\"Index: {idx}\")\r\n",
    "print(f\"Number: {iterative_fibonacci(idx)}\")\r\n",
    "print(f\"Stack Calls: {iterative_fibonacci.call_count}\")\r\n",
    "print(f\"speed : { timeit.timeit('iterative_fibonacci(idx)', globals=globals(), number=runs) }\")\r\n"
   ],
   "outputs": [
    {
     "output_type": "stream",
     "name": "stdout",
     "text": [
      "******* Recursive *******\n",
      "Index: 16\n",
      "Number: 987\n",
      "Stack Calls: 3193\n",
      "speed : 2.1932845000000043\n",
      "******* Tail Recursive *******\n",
      "Index: 16\n",
      "Number: 987\n",
      "Stack Calls: 17\n",
      "speed : 0.015266699999997968\n",
      "******* Iterative *******\n",
      "Index: 16\n",
      "Number: 987\n",
      "Stack Calls: 1\n",
      "speed : 0.0035941000000008216\n"
     ]
    }
   ],
   "metadata": {}
  },
  {
   "cell_type": "markdown",
   "source": [
    "# Caching\r\n",
    "By passing each of the Fibonacci functions through the functools lru_cache function we get a version with caching implemented"
   ],
   "metadata": {}
  },
  {
   "cell_type": "code",
   "execution_count": 4,
   "source": [
    "recursive_fibonacci = lru_cache(recursive_fibonacci)\r\n",
    "tail_rec_fibonacci = lru_cache(tail_rec_fibonacci)\r\n",
    "iterative_fibonacci = lru_cache(iterative_fibonacci)"
   ],
   "outputs": [],
   "metadata": {}
  },
  {
   "cell_type": "markdown",
   "source": [
    "# Results"
   ],
   "metadata": {}
  },
  {
   "cell_type": "code",
   "execution_count": 5,
   "source": [
    "print('******* Recursive *******')\r\n",
    "print(f\"Index: {idx}\")\r\n",
    "print(f\"Number: {recursive_fibonacci(idx)}\")\r\n",
    "print(f\"{recursive_fibonacci.cache_info()}\")\r\n",
    "print(f\"speed : { timeit.timeit('recursive_fibonacci(idx)', setup='recursive_fibonacci.cache_clear()', globals=globals(), number=runs) }\")\r\n",
    "\r\n",
    "print('******* Tail Recursive *******')\r\n",
    "print(f\"Index: {idx}\")\r\n",
    "print(f\"Number: {tail_rec_fibonacci(idx)}\")\r\n",
    "print(f\"{tail_rec_fibonacci.cache_info()}\")\r\n",
    "print(f\"speed : { timeit.timeit('tail_rec_fibonacci(idx)', setup='tail_rec_fibonacci.cache_clear()', globals=globals(), number=runs) }\")\r\n",
    "\r\n",
    "print('******* Iterative *******')\r\n",
    "print(f\"Index: {idx}\")\r\n",
    "print(f\"Number: {iterative_fibonacci(idx)}\")\r\n",
    "print(f\"{iterative_fibonacci.cache_info()}\")\r\n",
    "print(f\"speed : { timeit.timeit('iterative_fibonacci(idx)', setup='iterative_fibonacci.cache_clear()', globals=globals(), number=runs) }\")\r\n"
   ],
   "outputs": [
    {
     "output_type": "stream",
     "name": "stdout",
     "text": [
      "******* Recursive *******\n",
      "Index: 16\n",
      "Number: 987\n",
      "CacheInfo(hits=14, misses=17, maxsize=128, currsize=17)\n",
      "speed : 0.00029879999999593565\n",
      "******* Tail Recursive *******\n",
      "Index: 16\n",
      "Number: 987\n",
      "CacheInfo(hits=0, misses=17, maxsize=128, currsize=17)\n",
      "speed : 0.0003593999999935704\n",
      "******* Iterative *******\n",
      "Index: 16\n",
      "Number: 987\n",
      "CacheInfo(hits=0, misses=1, maxsize=128, currsize=1)\n",
      "speed : 0.00025380000001007375\n"
     ]
    }
   ],
   "metadata": {}
  }
 ],
 "metadata": {
  "orig_nbformat": 4,
  "language_info": {
   "name": "python",
   "version": "3.9.6",
   "mimetype": "text/x-python",
   "codemirror_mode": {
    "name": "ipython",
    "version": 3
   },
   "pygments_lexer": "ipython3",
   "nbconvert_exporter": "python",
   "file_extension": ".py"
  },
  "kernelspec": {
   "name": "python3",
   "display_name": "Python 3.9.6 64-bit"
  },
  "interpreter": {
   "hash": "ac59ebe37160ed0dfa835113d9b8498d9f09ceb179beaac4002f036b9467c963"
  }
 },
 "nbformat": 4,
 "nbformat_minor": 2
}