{
 "cells": [
  {
   "cell_type": "markdown",
   "metadata": {},
   "source": [
    "# Data Structures\n",
    "\n",
    "This is a document to demonstrate a number of data structures implemented in Python\n",
    "\n",
    "1. Sinlge Linked List\n",
    "2. Double Linked List\n",
    "3. Stack\n",
    "4. Queue\n",
    "5. Deque"
   ]
  },
  {
   "cell_type": "code",
   "execution_count": 7,
   "metadata": {
    "collapsed": true
   },
   "outputs": [],
   "source": [
    "class Node:\n",
    "    def __init__(self, data=None, nxt=None):\n",
    "        self.data = data\n",
    "        self.nxt = nxt\n",
    "    def __str__(self):\n",
    "        return str(self.data)"
   ]
  },
  {
   "cell_type": "code",
   "execution_count": 59,
   "metadata": {},
   "outputs": [],
   "source": [
    "class Linked_List:\n",
    "    def __init__(self):\n",
    "        self.head = None\n",
    "        \n",
    "    def add(self, data):\n",
    "        \n",
    "        node = Node(data, self.head)\n",
    "        self.head = node\n",
    "        \n",
    "    def remove(self, data, remove_all=False):\n",
    "        \n",
    "        current_node = self.head\n",
    "        previous_node = self.head\n",
    "        \n",
    "        while current_node != None:\n",
    "            \n",
    "            # Case: Node is currently the Head of the chain\n",
    "            if data == self.head.data:\n",
    "                deleted_node = self.head\n",
    "                self.head = self.head.nxt\n",
    "                if not remove_all: break\n",
    "            \n",
    "            #Case: Node is any other node in the chain\n",
    "            if current_node.data == data:\n",
    "                deleted_node = current_node\n",
    "                previous_node.nxt = current_node.nxt\n",
    "                if not remove_all: break\n",
    "            \n",
    "            if current_node.data != data: \n",
    "                previous_node = current_node\n",
    "            current_node = current_node.nxt\n",
    "        \n",
    "        return deleted_node\n",
    "    \n",
    "    def __str__(self):\n",
    "        current_node = self.head\n",
    "        self.chain = \"\"\n",
    "        while current_node != None:\n",
    "            self.chain += f\"{current_node.data} -> \" if current_node.nxt != None else f\"{current_node.data}\"\n",
    "            current_node = current_node.nxt\n",
    "        return self.chain"
   ]
  },
  {
   "cell_type": "code",
   "execution_count": 60,
   "metadata": {},
   "outputs": [
    {
     "name": "stdout",
     "output_type": "stream",
     "text": [
      "19 -> 19 -> 19 -> 19 -> 18 -> 18 -> 18 -> 18 -> 17 -> 17 -> 17 -> 16 -> 16 -> 16 -> 16 -> 15 -> 15 -> 15 -> 15 -> 14 -> 14 -> 14 -> 14 -> 13 -> 13 -> 13 -> 13 -> 12 -> 12 -> 12 -> 12 -> 11 -> 11 -> 11 -> 11 -> 10 -> 10 -> 10 -> 10 -> 9 -> 9 -> 9 -> 9 -> 8 -> 8 -> 8 -> 8 -> 7 -> 7 -> 7 -> 7 -> 6 -> 6 -> 6 -> 6 -> 5 -> 5 -> 5 -> 5 -> 4 -> 4 -> 4 -> 4 -> 3 -> 3 -> 3 -> 3 -> 2 -> 2 -> 2 -> 2 -> 1 -> 1 -> 1 -> 1 -> 0 -> 0 -> 0 -> 0\n"
     ]
    }
   ],
   "source": [
    "a = Linked_List()\n",
    "for x in range(20):\n",
    "    a.add(x)\n",
    "    a.add(x)\n",
    "    a.add(x)\n",
    "    a.add(x)\n",
    "\n",
    "\n",
    "a.remove(17)\n",
    "print(a)"
   ]
  },
  {
   "cell_type": "code",
   "execution_count": null,
   "metadata": {
    "collapsed": true
   },
   "outputs": [],
   "source": []
  }
 ],
 "metadata": {
  "kernelspec": {
   "display_name": "Python 3",
   "language": "python",
   "name": "python3"
  },
  "language_info": {
   "codemirror_mode": {
    "name": "ipython",
    "version": 3
   },
   "file_extension": ".py",
   "mimetype": "text/x-python",
   "name": "python",
   "nbconvert_exporter": "python",
   "pygments_lexer": "ipython3",
   "version": "3.6.1"
  }
 },
 "nbformat": 4,
 "nbformat_minor": 1
}
