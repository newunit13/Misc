{
 "cells": [
  {
   "cell_type": "code",
   "execution_count": 28,
   "metadata": {
    "collapsed": true
   },
   "outputs": [],
   "source": [
    "class Node:\n",
    "    def __init__(self, data):\n",
    "        self.data = data\n",
    "        self.left = None\n",
    "        self.right = None"
   ]
  },
  {
   "cell_type": "code",
   "execution_count": 29,
   "metadata": {},
   "outputs": [],
   "source": [
    "class BinaryTree:\n",
    "    def __init__(self):\n",
    "        self.root = None\n",
    "    \n",
    "    def add(self, data, node=None):\n",
    "        if node == None:\n",
    "            node = self.root\n",
    "        \n",
    "        if self.root == None:\n",
    "            self.root = Node(data)\n",
    "        else:\n",
    "            if data <= node.data and node.left != None:\n",
    "                self.add(data, node.left)\n",
    "            elif data > node.data and node.right != None:\n",
    "                self.add(data, node.right)\n",
    "            elif data <= node.data and node.left == None:\n",
    "                node.left = Node(data)\n",
    "            elif data > node.data and node.right == None:\n",
    "                node.right = Node(data)\n",
    "    \n",
    "    def display(self, node=None):\n",
    "        if node == None:\n",
    "            return\n",
    "        \n",
    "        self.display(node.left)\n",
    "        print(node.data)\n",
    "        self.display(node.right)\n"
   ]
  },
  {
   "cell_type": "code",
   "execution_count": 30,
   "metadata": {},
   "outputs": [],
   "source": [
    "a = BinaryTree()\n",
    "a.add(10)\n",
    "a.add(5)\n",
    "a.add(7)\n",
    "a.add(3)\n",
    "a.add(20)\n",
    "a.add(8)\n",
    "a.add(15)"
   ]
  },
  {
   "cell_type": "code",
   "execution_count": 31,
   "metadata": {},
   "outputs": [
    {
     "name": "stdout",
     "output_type": "stream",
     "text": [
      "3\n",
      "5\n",
      "7\n",
      "8\n",
      "10\n",
      "15\n",
      "20\n"
     ]
    }
   ],
   "source": [
    "a.display(a.root)"
   ]
  },
  {
   "cell_type": "code",
   "execution_count": null,
   "metadata": {
    "collapsed": true
   },
   "outputs": [],
   "source": []
  }
 ],
 "metadata": {
  "kernelspec": {
   "display_name": "Python 3",
   "language": "python",
   "name": "python3"
  },
  "language_info": {
   "codemirror_mode": {
    "name": "ipython",
    "version": 3
   },
   "file_extension": ".py",
   "mimetype": "text/x-python",
   "name": "python",
   "nbconvert_exporter": "python",
   "pygments_lexer": "ipython3",
   "version": "3.6.1"
  }
 },
 "nbformat": 4,
 "nbformat_minor": 2
}
